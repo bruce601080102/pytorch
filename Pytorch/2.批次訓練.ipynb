{
 "cells": [
  {
   "cell_type": "code",
   "execution_count": 7,
   "metadata": {},
   "outputs": [
    {
     "data": {
      "text/plain": [
       "<torch._C.Generator at 0x248aa2d0930>"
      ]
     },
     "execution_count": 7,
     "metadata": {},
     "output_type": "execute_result"
    }
   ],
   "source": [
    "import torch as t\n",
    "import torch.utils.data as Data\n",
    "\n",
    "torch.manual_seed(1) "
   ]
  },
  {
   "cell_type": "code",
   "execution_count": 8,
   "metadata": {},
   "outputs": [],
   "source": [
    "BATCH_SIZE = 5\n",
    "# BATCH_SIZE = 8"
   ]
  },
  {
   "cell_type": "code",
   "execution_count": 9,
   "metadata": {},
   "outputs": [],
   "source": [
    "x = t.linspace(1, 10, 10)       # this is x data (torch tensor)\n",
    "y = t.linspace(10, 1, 10)       # this is y data (torch tensor)"
   ]
  },
  {
   "cell_type": "code",
   "execution_count": 10,
   "metadata": {},
   "outputs": [],
   "source": [
    "torch_dataset=Data.TensorDataset(x,y)"
   ]
  },
  {
   "cell_type": "code",
   "execution_count": 14,
   "metadata": {},
   "outputs": [],
   "source": [
    "load = Data.DataLoader(dataset=torch_dataset,batch_size=BATCH_SIZE,shuffle=True,num_workers=2)#批次訓練"
   ]
  },
  {
   "cell_type": "code",
   "execution_count": 15,
   "metadata": {},
   "outputs": [
    {
     "name": "stdout",
     "output_type": "stream",
     "text": [
      "(0, [tensor([ 5.,  7., 10.,  3.,  4.]), tensor([6., 4., 1., 8., 7.])])\n",
      "(1, [tensor([2., 1., 8., 9., 6.]), tensor([ 9., 10.,  3.,  2.,  5.])])\n"
     ]
    }
   ],
   "source": [
    "for x1 in enumerate(load):\n",
    "    print(x1)"
   ]
  },
  {
   "cell_type": "code",
   "execution_count": 26,
   "metadata": {},
   "outputs": [
    {
     "name": "stdout",
     "output_type": "stream",
     "text": [
      "epoch: 0  number: 0  batch_sizeX: [6. 3. 2. 9. 5.]  batch_sizeY: [5. 8. 9. 2. 6.]\n",
      "----------------------------------------------------------------------------------------------------\n",
      "epoch: 0  number: 1  batch_sizeX: [ 4.  1. 10.  8.  7.]  batch_sizeY: [ 7. 10.  1.  3.  4.]\n",
      "----------------------------------------------------------------------------------------------------\n",
      "epoch: 1  number: 0  batch_sizeX: [4. 9. 1. 6. 5.]  batch_sizeY: [ 7.  2. 10.  5.  6.]\n",
      "----------------------------------------------------------------------------------------------------\n",
      "epoch: 1  number: 1  batch_sizeX: [ 2. 10.  7.  8.  3.]  batch_sizeY: [9. 1. 4. 3. 8.]\n",
      "----------------------------------------------------------------------------------------------------\n",
      "epoch: 2  number: 0  batch_sizeX: [ 2.  7.  5. 10.  9.]  batch_sizeY: [9. 4. 6. 1. 2.]\n",
      "----------------------------------------------------------------------------------------------------\n",
      "epoch: 2  number: 1  batch_sizeX: [3. 4. 8. 1. 6.]  batch_sizeY: [ 8.  7.  3. 10.  5.]\n",
      "----------------------------------------------------------------------------------------------------\n"
     ]
    }
   ],
   "source": [
    "for epoch in range(3):\n",
    "    for number,(batch_sizeX,batch_sizeY) in enumerate(load):\n",
    "        print('epoch:',epoch ,' number:',number,' batch_sizeX:',batch_sizeX.numpy(),' batch_sizeY:' ,batch_sizeY.numpy() )\n",
    "        print('-'*100)"
   ]
  },
  {
   "cell_type": "code",
   "execution_count": 27,
   "metadata": {},
   "outputs": [
    {
     "name": "stdout",
     "output_type": "stream",
     "text": [
      "epoch: 0  number: 0  batch_sizeX: [ 6.  7.  2.  3.  4.  9. 10.  8.]  batch_sizeY: [5. 4. 9. 8. 7. 2. 1. 3.]\n",
      "----------------------------------------------------------------------------------------------------\n",
      "epoch: 0  number: 1  batch_sizeX: [5. 1.]  batch_sizeY: [ 6. 10.]\n",
      "----------------------------------------------------------------------------------------------------\n",
      "epoch: 1  number: 0  batch_sizeX: [ 3.  9. 10.  8.  6.  4.  5.  7.]  batch_sizeY: [8. 2. 1. 3. 5. 7. 6. 4.]\n",
      "----------------------------------------------------------------------------------------------------\n",
      "epoch: 1  number: 1  batch_sizeX: [2. 1.]  batch_sizeY: [ 9. 10.]\n",
      "----------------------------------------------------------------------------------------------------\n",
      "epoch: 2  number: 0  batch_sizeX: [ 9.  5.  2.  6.  8.  4.  7. 10.]  batch_sizeY: [2. 6. 9. 5. 3. 7. 4. 1.]\n",
      "----------------------------------------------------------------------------------------------------\n",
      "epoch: 2  number: 1  batch_sizeX: [1. 3.]  batch_sizeY: [10.  8.]\n",
      "----------------------------------------------------------------------------------------------------\n"
     ]
    }
   ],
   "source": [
    "BATCH_SIZE_8 = 8\n",
    "load8 = Data.DataLoader(dataset=torch_dataset,batch_size=BATCH_SIZE_8,shuffle=True,num_workers=2)\n",
    "\n",
    "for epoch in range(3):\n",
    "    for number,(batch_sizeX,batch_sizeY) in enumerate(load8):\n",
    "        print('epoch:',epoch ,' number:',number,' batch_sizeX:',batch_sizeX.numpy(),' batch_sizeY:' ,batch_sizeY.numpy() )\n",
    "        print('-'*100)"
   ]
  },
  {
   "cell_type": "code",
   "execution_count": null,
   "metadata": {},
   "outputs": [],
   "source": []
  }
 ],
 "metadata": {
  "kernelspec": {
   "display_name": "Python 3",
   "language": "python",
   "name": "python3"
  },
  "language_info": {
   "codemirror_mode": {
    "name": "ipython",
    "version": 3
   },
   "file_extension": ".py",
   "mimetype": "text/x-python",
   "name": "python",
   "nbconvert_exporter": "python",
   "pygments_lexer": "ipython3",
   "version": "3.6.9"
  }
 },
 "nbformat": 4,
 "nbformat_minor": 2
}
