{
 "cells": [
  {
   "cell_type": "code",
   "execution_count": 1,
   "metadata": {},
   "outputs": [],
   "source": [
    "import torch as t\n",
    "import torch.nn as nn\n",
    "import torch.utils.data as Data\n",
    "import torchvision\n",
    "import matplotlib.pyplot as plt"
   ]
  },
  {
   "cell_type": "code",
   "execution_count": 2,
   "metadata": {},
   "outputs": [
    {
     "data": {
      "text/plain": [
       "<torch._C.Generator at 0x13fbb07f8b0>"
      ]
     },
     "execution_count": 2,
     "metadata": {},
     "output_type": "execute_result"
    }
   ],
   "source": [
    "t.manual_seed(1)    # reproducible"
   ]
  },
  {
   "cell_type": "code",
   "execution_count": 3,
   "metadata": {},
   "outputs": [],
   "source": [
    "EPOCH=1\n",
    "BATCH_SIZE=50\n",
    "LR=0.001\n",
    "DOWN_MNIST=False"
   ]
  },
  {
   "cell_type": "code",
   "execution_count": 4,
   "metadata": {},
   "outputs": [],
   "source": [
    "train_data=torchvision.datasets.MNIST(\n",
    "            root='./mnist',\n",
    "            train=True,\n",
    "            transform=torchvision.transforms.ToTensor(),#將下載的資料轉乘torch格式 在for迴圈會將數值轉為為0到1 \n",
    "            download=DOWN_MNIST\n",
    "        )"
   ]
  },
  {
   "cell_type": "code",
   "execution_count": 5,
   "metadata": {},
   "outputs": [
    {
     "name": "stdout",
     "output_type": "stream",
     "text": [
      "all: Dataset MNIST\n",
      "    Number of datapoints: 60000\n",
      "    Root location: ./mnist\n",
      "    Split: Train\n",
      "    StandardTransform\n",
      "Transform: ToTensor()\n",
      "train_data: torch.Size([60000, 28, 28])\n",
      "train_labels: torch.Size([60000])\n"
     ]
    },
    {
     "name": "stderr",
     "output_type": "stream",
     "text": [
      "D:\\python\\envs\\two_pthon_deep\\lib\\site-packages\\torchvision\\datasets\\mnist.py:55: UserWarning: train_data has been renamed data\n",
      "  warnings.warn(\"train_data has been renamed data\")\n",
      "D:\\python\\envs\\two_pthon_deep\\lib\\site-packages\\torchvision\\datasets\\mnist.py:45: UserWarning: train_labels has been renamed targets\n",
      "  warnings.warn(\"train_labels has been renamed targets\")\n"
     ]
    }
   ],
   "source": [
    "print('all:',train_data)\n",
    "print('train_data:',train_data.train_data.shape)\n",
    "print('train_labels:',train_data.train_labels.shape)"
   ]
  },
  {
   "cell_type": "code",
   "execution_count": 6,
   "metadata": {},
   "outputs": [
    {
     "data": {
      "image/png": "[encoded data removed]",
      "text/plain": [
       "<Figure size 432x288 with 1 Axes>"
      ]
     },
     "metadata": {
      "needs_background": "light"
     },
     "output_type": "display_data"
    }
   ],
   "source": [
    "plt.imshow(train_data.train_data[0].numpy(),cmap='gray')\n",
    "plt.title(train_data.train_labels[0].numpy())\n",
    "plt.show()"
   ]
  },
  {
   "cell_type": "code",
   "execution_count": 7,
   "metadata": {},
   "outputs": [],
   "source": [
    "from torch.autograd import Variable as V"
   ]
  },
  {
   "cell_type": "code",
   "execution_count": 8,
   "metadata": {},
   "outputs": [],
   "source": [
    "train_loader=Data.DataLoader(dataset=train_data,batch_size=BATCH_SIZE,shuffle=True,num_workers=2 )\n",
    "#test_data=torchvision.datasets.MNIST(root='./mnist/',train=False)\n",
    "#test_x=V(t.unsqueeze(test_data.test_data,dim=1),volatile=True).type(t.FloatTensor)[:2000]/255#測試資料要手動轉\n",
    "#test_y=test_data.test_labels[:2000]"
   ]
  },
  {
   "cell_type": "code",
   "execution_count": 9,
   "metadata": {},
   "outputs": [],
   "source": [
    "test_data=torchvision.datasets.MNIST(\n",
    "            root='./mnist',\n",
    "            train=False,\n",
    "            transform=torchvision.transforms.ToTensor(),#將下載的資料轉乘torch格式 在for迴圈會將數值轉為為0到1 \n",
    "            download=DOWN_MNIST\n",
    "        )"
   ]
  },
  {
   "cell_type": "code",
   "execution_count": 10,
   "metadata": {},
   "outputs": [
    {
     "name": "stdout",
     "output_type": "stream",
     "text": [
      "all: Dataset MNIST\n",
      "    Number of datapoints: 10000\n",
      "    Root location: ./mnist\n",
      "    Split: Test\n",
      "    StandardTransform\n",
      "Transform: ToTensor()\n",
      "train_data: torch.Size([10000, 28, 28])\n",
      "train_labels: torch.Size([10000, 28, 28])\n"
     ]
    },
    {
     "name": "stderr",
     "output_type": "stream",
     "text": [
      "D:\\python\\envs\\two_pthon_deep\\lib\\site-packages\\torchvision\\datasets\\mnist.py:60: UserWarning: test_data has been renamed data\n",
      "  warnings.warn(\"test_data has been renamed data\")\n"
     ]
    }
   ],
   "source": [
    "print('all:',test_data)\n",
    "print('train_data:',test_data.test_data.shape)\n",
    "print('train_labels:',test_data.test_data.shape)"
   ]
  },
  {
   "cell_type": "code",
   "execution_count": 11,
   "metadata": {},
   "outputs": [
    {
     "name": "stderr",
     "output_type": "stream",
     "text": [
      "D:\\python\\envs\\two_pthon_deep\\lib\\site-packages\\ipykernel_launcher.py:2: UserWarning: volatile was removed and now has no effect. Use `with torch.no_grad():` instead.\n",
      "  \n"
     ]
    }
   ],
   "source": [
    "# !!!!!!!! Change in here !!!!!!!!! #\n",
    "test_x=V(t.unsqueeze(test_data.test_data,dim=1),volatile=True).type(t.FloatTensor)[:2000]/255#測試資料要手動轉"
   ]
  },
  {
   "cell_type": "code",
   "execution_count": 12,
   "metadata": {},
   "outputs": [
    {
     "name": "stderr",
     "output_type": "stream",
     "text": [
      "D:\\python\\envs\\two_pthon_deep\\lib\\site-packages\\torchvision\\datasets\\mnist.py:50: UserWarning: test_labels has been renamed targets\n",
      "  warnings.warn(\"test_labels has been renamed targets\")\n"
     ]
    }
   ],
   "source": [
    "# !!!!!!!! Change in here !!!!!!!!! #\n",
    "test_y=test_data.test_labels[:2000]"
   ]
  },
  {
   "cell_type": "markdown",
   "metadata": {},
   "source": [
    "# 這裡-1表示一個不確定的數，就是你如果不確定你想要reshape成幾行，但是你很肯定要reshape成4列，那不確定的地方就可以寫成-1例如一個長度的16向量x\n",
    "\n"
   ]
  },
  {
   "cell_type": "code",
   "execution_count": 13,
   "metadata": {},
   "outputs": [],
   "source": [
    "#再經過捲積層就會變成相乘\n",
    "#(1,28,28)\n",
    "class CNN(nn.Module):\n",
    "    def __init__(self):\n",
    "        super(CNN,self).__init__()\n",
    "        self.conv1 = nn.Sequential(\n",
    "                        nn.Conv2d(in_channels=1,out_channels=16,kernel_size=5,stride=1,padding=2),  #(16*28*28)\n",
    "                        nn.ReLU(),  #(16*28*28)\n",
    "                        nn.MaxPool2d(kernel_size=2),#(16*14*14)\n",
    "                    )\n",
    "            \n",
    "        self.conv2 = nn.Sequential(\n",
    "                        nn.Conv2d(16,32,5,1,2),#(32*14*14)\n",
    "                        nn.Dropout(0.5),\n",
    "                        nn.ReLU(),#(32*14*14)\n",
    "                        nn.MaxPool2d(kernel_size=2),#(32*7*7)\n",
    "                    )\n",
    "        \n",
    "        self.out_layer = nn.Linear(32*7*7,50) #n_input,n_output\n",
    "        self.out_layer2 = nn.Linear(50,10)\n",
    "        \n",
    "        \n",
    "        \n",
    "    \n",
    "    def forward(self,x): #(1,28,28)\n",
    "        x = self.conv1(x) #(16*28*28)\n",
    "        x = self.conv2(x) #(32*7*7) \n",
    "        x = x.view(x.size(0),-1)      #展平成1維，確保為1維的數據\n",
    "        output=self.out_layer(x) #32*7*7,10\n",
    "        output=self.out_layer2(output)\n",
    "        return output "
   ]
  },
  {
   "cell_type": "code",
   "execution_count": 14,
   "metadata": {},
   "outputs": [
    {
     "name": "stdout",
     "output_type": "stream",
     "text": [
      "CNN(\n",
      "  (conv1): Sequential(\n",
      "    (0): Conv2d(1, 16, kernel_size=(5, 5), stride=(1, 1), padding=(2, 2))\n",
      "    (1): ReLU()\n",
      "    (2): MaxPool2d(kernel_size=2, stride=2, padding=0, dilation=1, ceil_mode=False)\n",
      "  )\n",
      "  (conv2): Sequential(\n",
      "    (0): Conv2d(16, 32, kernel_size=(5, 5), stride=(1, 1), padding=(2, 2))\n",
      "    (1): Dropout(p=0.5, inplace=False)\n",
      "    (2): ReLU()\n",
      "    (3): MaxPool2d(kernel_size=2, stride=2, padding=0, dilation=1, ceil_mode=False)\n",
      "  )\n",
      "  (out_layer): Linear(in_features=1568, out_features=50, bias=True)\n",
      "  (out_layer2): Linear(in_features=50, out_features=10, bias=True)\n",
      ")\n"
     ]
    }
   ],
   "source": [
    "print(CNN())"
   ]
  },
  {
   "cell_type": "code",
   "execution_count": 15,
   "metadata": {},
   "outputs": [],
   "source": [
    "# !!!!!!!! Change in here !!!!!!!!! #\n",
    "cnn=CNN()\n",
    "\n",
    "\n",
    "\n",
    "optimizer=t.optim.Adam(cnn.parameters(),lr=LR,)#優化器\n",
    "loss_func=nn.CrossEntropyLoss() #損失函數"
   ]
  },
  {
   "cell_type": "code",
   "execution_count": 16,
   "metadata": {},
   "outputs": [],
   "source": [
    "training_loss = []\n",
    "training_accuracy = []\n",
    "validation_loss = []\n",
    "validation_accuracy = []"
   ]
  },
  {
   "cell_type": "code",
   "execution_count": 17,
   "metadata": {},
   "outputs": [
    {
     "name": "stdout",
     "output_type": "stream",
     "text": [
      "Epoch:  1 | train accuracy: 0.06 | train loss: 2.3022 | test accuracy: 0.17 - test loss: 2.2911\n",
      "Epoch:  2 | train accuracy: 0.82 | train loss: 0.6828 | test accuracy: 0.86 - test loss: 0.5388\n",
      "Epoch:  3 | train accuracy: 0.96 | train loss: 0.1867 | test accuracy: 0.93 - test loss: 0.2709\n",
      "Epoch:  4 | train accuracy: 0.96 | train loss: 0.1740 | test accuracy: 0.95 - test loss: 0.2090\n",
      "Epoch:  5 | train accuracy: 0.92 | train loss: 0.2930 | test accuracy: 0.96 - test loss: 0.1693\n",
      "Epoch:  6 | train accuracy: 0.96 | train loss: 0.0826 | test accuracy: 0.96 - test loss: 0.1511\n",
      "Epoch:  7 | train accuracy: 0.94 | train loss: 0.1580 | test accuracy: 0.96 - test loss: 0.1429\n",
      "Epoch:  8 | train accuracy: 0.98 | train loss: 0.1036 | test accuracy: 0.97 - test loss: 0.1111\n",
      "Epoch:  9 | train accuracy: 0.98 | train loss: 0.1485 | test accuracy: 0.98 - test loss: 0.1111\n",
      "Epoch:  10 | train accuracy: 0.94 | train loss: 0.1647 | test accuracy: 0.98 - test loss: 0.1065\n",
      "Epoch:  11 | train accuracy: 0.98 | train loss: 0.0756 | test accuracy: 0.97 - test loss: 0.1021\n",
      "Epoch:  12 | train accuracy: 0.98 | train loss: 0.0477 | test accuracy: 0.98 - test loss: 0.0972\n",
      "Epoch:  13 | train accuracy: 0.96 | train loss: 0.0745 | test accuracy: 0.98 - test loss: 0.0876\n",
      "Epoch:  14 | train accuracy: 0.96 | train loss: 0.0974 | test accuracy: 0.98 - test loss: 0.0885\n",
      "Epoch:  15 | train accuracy: 0.94 | train loss: 0.0995 | test accuracy: 0.98 - test loss: 0.0797\n",
      "Epoch:  16 | train accuracy: 1.00 | train loss: 0.0129 | test accuracy: 0.98 - test loss: 0.0837\n",
      "Epoch:  17 | train accuracy: 0.96 | train loss: 0.0660 | test accuracy: 0.98 - test loss: 0.0683\n",
      "Epoch:  18 | train accuracy: 0.96 | train loss: 0.0658 | test accuracy: 0.98 - test loss: 0.0716\n",
      "Epoch:  19 | train accuracy: 1.00 | train loss: 0.0167 | test accuracy: 0.98 - test loss: 0.0808\n",
      "Epoch:  20 | train accuracy: 0.96 | train loss: 0.1162 | test accuracy: 0.98 - test loss: 0.0698\n",
      "Epoch:  21 | train accuracy: 1.00 | train loss: 0.0101 | test accuracy: 0.98 - test loss: 0.0720\n",
      "Epoch:  22 | train accuracy: 1.00 | train loss: 0.0405 | test accuracy: 0.98 - test loss: 0.0789\n",
      "Epoch:  23 | train accuracy: 0.98 | train loss: 0.0410 | test accuracy: 0.98 - test loss: 0.0583\n",
      "Epoch:  24 | train accuracy: 1.00 | train loss: 0.0081 | test accuracy: 0.98 - test loss: 0.0671\n"
     ]
    }
   ],
   "source": [
    "Epoch=0\n",
    "for epoch in range(2):\n",
    "    \n",
    "    for step, (x, y) in enumerate(train_loader):   # gives batch data, normalize x when iterate train_loader\n",
    "        # !!!!!!!! Change in here !!!!!!!!! #\n",
    "        b_x = V(x)   # batch x\n",
    "        b_y = V(y)   # batch y\n",
    "        \n",
    "        output = cnn(b_x)               # cnn output\n",
    "        loss = loss_func(output, b_y)   # cross entropy loss\n",
    "        optimizer.zero_grad()           # clear gradients for this training step\n",
    "        loss.backward()                 # backpropagation, compute gradients\n",
    "        optimizer.step()                # apply gradients\n",
    "        \n",
    "        b_t_x= V(test_x)\n",
    "        b_t_y= V(test_y)\n",
    "        \n",
    "        \n",
    "        \n",
    "        \n",
    "        \n",
    "        if step % 100 == 0:\n",
    "            cnn.eval()\n",
    "            Epoch+=1\n",
    "            test_output = cnn(test_x) \n",
    "            cnn.train()\n",
    "            \n",
    "            # !!!!!!!! Change in here !!!!!!!!! #\n",
    "            pred_y = t.max(test_output, 1)[1]#因為是relu，所以max取機率最高的機率\n",
    "            tran_pred_y = t.max(output, 1)[1]\n",
    "            \n",
    "            training_loss.append(loss.data)\n",
    "            val_loss = loss_func(test_output, b_t_y)\n",
    "            validation_loss.append(val_loss.data)\n",
    "            \n",
    "            \n",
    "            \n",
    "            \n",
    "            \n",
    "            tran_accuracy = (tran_pred_y == y).sum().item() / float(y.size(0))\n",
    "            accuracy = (pred_y == test_y).sum().item() / float(test_y.size(0))\n",
    "            training_accuracy.append(tran_accuracy)\n",
    "            validation_accuracy.append(accuracy)\n",
    "            \n",
    "            \n",
    "            print('Epoch: ', Epoch, '| train accuracy: %.2f' % tran_accuracy, '| train loss: %.4f' % loss.item(), '| test accuracy: %.2f' % accuracy, '- test loss: %.4f' % val_loss.item())\n"
   ]
  },
  {
   "cell_type": "code",
   "execution_count": 18,
   "metadata": {},
   "outputs": [
    {
     "data": {
      "image/png": "[encoded data removed]",
      "text/plain": [
       "<Figure size 432x288 with 1 Axes>"
      ]
     },
     "metadata": {
      "needs_background": "light"
     },
     "output_type": "display_data"
    },
    {
     "data": {
      "image/png": "[encoded data removed]",
      "text/plain": [
       "<Figure size 432x288 with 1 Axes>"
      ]
     },
     "metadata": {
      "needs_background": "light"
     },
     "output_type": "display_data"
    }
   ],
   "source": [
    "plt.plot(training_loss, 'b-', label='Training_loss')\n",
    "plt.plot(validation_loss, 'g-', label='validation_loss')\n",
    "plt.title('Training & Validation loss')\n",
    "plt.xlabel('Number of epochs')\n",
    "plt.ylabel('Loss')\n",
    "plt.legend()\n",
    "plt.show()\n",
    "\n",
    "plt.plot( training_accuracy, 'b-', label='Training_accuracy')\n",
    "plt.plot( validation_accuracy, 'g-', label='Validation_accuracy')\n",
    "plt.title('Training & Validation accuracy')\n",
    "plt.xlabel('Number of epochs')\n",
    "plt.ylabel('Accuracy')\n",
    "plt.legend()\n",
    "plt.show()"
   ]
  },
  {
   "cell_type": "code",
   "execution_count": 19,
   "metadata": {},
   "outputs": [],
   "source": [
    "y_0_9_chance=cnn(test_x[:20])\n",
    "y_pred=t.max(y_0_9_chance,1)[1].data.numpy().squeeze()"
   ]
  },
  {
   "cell_type": "code",
   "execution_count": 20,
   "metadata": {},
   "outputs": [
    {
     "name": "stdout",
     "output_type": "stream",
     "text": [
      "實際: [7 2 1 0 4 1 4 9 5 9 0 6 9 0 1 5 9 7 3 4]\n",
      "預測: [7 2 1 0 4 1 4 9 5 9 0 6 9 0 1 5 9 7 3 4]\n"
     ]
    }
   ],
   "source": [
    "print('實際:',test_y[:20].numpy())\n",
    "print('預測:',y_pred)"
   ]
  },
  {
   "cell_type": "code",
   "execution_count": 21,
   "metadata": {},
   "outputs": [],
   "source": [
    "from sklearn.metrics import classification_report"
   ]
  },
  {
   "cell_type": "code",
   "execution_count": 22,
   "metadata": {},
   "outputs": [],
   "source": [
    "y_all=cnn(test_x)\n",
    "y_pred_all=t.max(y_all,1)[1].data.numpy().squeeze()"
   ]
  },
  {
   "cell_type": "code",
   "execution_count": 23,
   "metadata": {},
   "outputs": [],
   "source": [
    "target_names = ['0', '1', '2','3','4','5','6','7','8','9']"
   ]
  },
  {
   "cell_type": "code",
   "execution_count": 24,
   "metadata": {},
   "outputs": [
    {
     "name": "stdout",
     "output_type": "stream",
     "text": [
      "              precision    recall  f1-score   support\n",
      "\n",
      "           0       0.97      0.99      0.98       175\n",
      "           1       0.99      0.99      0.99       234\n",
      "           2       0.97      1.00      0.98       219\n",
      "           3       0.97      0.99      0.98       207\n",
      "           4       0.99      0.99      0.99       217\n",
      "           5       0.96      0.99      0.97       179\n",
      "           6       0.99      0.97      0.98       178\n",
      "           7       0.99      0.94      0.96       205\n",
      "           8       0.98      0.98      0.98       192\n",
      "           9       0.98      0.97      0.98       194\n",
      "\n",
      "    accuracy                           0.98      2000\n",
      "   macro avg       0.98      0.98      0.98      2000\n",
      "weighted avg       0.98      0.98      0.98      2000\n",
      "\n"
     ]
    }
   ],
   "source": [
    "print(classification_report(test_y.numpy(),y_pred_all,target_names=target_names))"
   ]
  },
  {
   "cell_type": "code",
   "execution_count": 25,
   "metadata": {},
   "outputs": [],
   "source": [
    "from sklearn.metrics import confusion_matrix"
   ]
  },
  {
   "cell_type": "code",
   "execution_count": 26,
   "metadata": {},
   "outputs": [
    {
     "name": "stdout",
     "output_type": "stream",
     "text": [
      "[[174   0   0   0   0   0   1   0   0   0]\n",
      " [  0 232   0   0   0   1   0   0   1   0]\n",
      " [  0   1 218   0   0   0   0   0   0   0]\n",
      " [  0   0   0 205   0   2   0   0   0   0]\n",
      " [  2   0   0   0 214   0   0   0   0   1]\n",
      " [  0   0   0   1   0 177   0   1   0   0]\n",
      " [  2   0   0   0   0   2 172   0   2   0]\n",
      " [  0   1   5   5   0   1   0 192   0   1]\n",
      " [  1   0   1   1   0   0   0   0 188   1]\n",
      " [  0   0   0   0   3   2   0   0   1 188]]\n"
     ]
    }
   ],
   "source": [
    "confmat = confusion_matrix(y_true=test_y.numpy(), y_pred=y_pred_all)\n",
    "print(confmat)"
   ]
  },
  {
   "cell_type": "code",
   "execution_count": null,
   "metadata": {},
   "outputs": [],
   "source": []
  }
 ],
 "metadata": {
  "kernelspec": {
   "display_name": "Python 3",
   "language": "python",
   "name": "python3"
  },
  "language_info": {
   "codemirror_mode": {
    "name": "ipython",
    "version": 3
   },
   "file_extension": ".py",
   "mimetype": "text/x-python",
   "name": "python",
   "nbconvert_exporter": "python",
   "pygments_lexer": "ipython3",
   "version": "3.6.9"
  }
 },
 "nbformat": 4,
 "nbformat_minor": 2
}
