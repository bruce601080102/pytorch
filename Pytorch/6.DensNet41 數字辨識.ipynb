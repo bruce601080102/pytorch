{
 "cells": [
  {
   "cell_type": "markdown",
   "metadata": {},
   "source": [
    "drop=0.2 Test set: Average loss: 0.0562, Accuracy: 1960/2000 (98%)\n",
    "<p>drop=0Test set: Average loss: 0.0854, Accuracy: 1945/2000 (97%)"
   ]
  },
  {
   "cell_type": "code",
   "execution_count": 1,
   "metadata": {},
   "outputs": [],
   "source": [
    "import torch as t\n",
    "import torch.nn as nn\n",
    "import torchvision \n",
    "import torch.utils.data as Date\n",
    "import torch.nn.functional as F\n",
    "import matplotlib.pyplot as plt\n",
    "from torch.autograd import Variable as V\n",
    "import time"
   ]
  },
  {
   "cell_type": "code",
   "execution_count": 2,
   "metadata": {},
   "outputs": [],
   "source": [
    "class _DenseLayer(nn.Sequential):#卷积块：BN->ReLU->1x1Conv->BN->ReLU->3x3Conv\n",
    "    def __init__(self, num_input_features, growth_rate, bn_size, drop_rate):\n",
    "\n",
    "        super(_DenseLayer, self).__init__()\n",
    "        \n",
    "        self.module1 = nn.Sequential(\n",
    "                            nn.BatchNorm2d(num_input_features),\n",
    "                            nn.ReLU(),\n",
    "                            nn.Conv2d(num_input_features, \n",
    "                                      bn_size * growth_rate, \n",
    "                                      kernel_size=1,\n",
    "                                      stride=1, \n",
    "                                      bias=False\n",
    "                            \n",
    "                            ),\n",
    "                \n",
    "                nn.BatchNorm2d(bn_size * growth_rate),\n",
    "                nn.ReLU(),\n",
    "                nn.Conv2d(bn_size * growth_rate, growth_rate, kernel_size=3, stride=1, padding=1, bias=False),\n",
    " \n",
    "                )\n",
    "        \n",
    "        self.drop = drop_rate \n",
    "        \n",
    "    def forward(self, x):\n",
    "        #print('or:',x.shape)\n",
    "        new_features = self.module1(x)\n",
    "        #print('new_features:',new_features.shape)\n",
    "        if self.drop >0:\n",
    "            new_features = F.dropout(new_features, p = self.drop, training=self.training)\n",
    "            \n",
    "        #print('----------------------------------------------------------------')\n",
    "        return t.cat([x, new_features], dim=1)\n",
    "        "
   ]
  },
  {
   "cell_type": "markdown",
   "metadata": {},
   "source": [
    "##### num_input_features要為1"
   ]
  },
  {
   "cell_type": "code",
   "execution_count": 3,
   "metadata": {},
   "outputs": [
    {
     "data": {
      "text/plain": [
       "_DenseLayer(\n",
       "  (module1): Sequential(\n",
       "    (0): BatchNorm2d(1, eps=1e-05, momentum=0.1, affine=True, track_running_stats=True)\n",
       "    (1): ReLU()\n",
       "    (2): Conv2d(1, 16, kernel_size=(1, 1), stride=(1, 1), bias=False)\n",
       "    (3): BatchNorm2d(16, eps=1e-05, momentum=0.1, affine=True, track_running_stats=True)\n",
       "    (4): ReLU()\n",
       "    (5): Conv2d(16, 4, kernel_size=(3, 3), stride=(1, 1), padding=(1, 1), bias=False)\n",
       "  )\n",
       ")"
      ]
     },
     "execution_count": 3,
     "metadata": {},
     "output_type": "execute_result"
    }
   ],
   "source": [
    "_DenseLayer1=_DenseLayer(1,4,4,0)\n",
    "_DenseLayer1"
   ]
  },
  {
   "cell_type": "code",
   "execution_count": 4,
   "metadata": {
    "scrolled": true
   },
   "outputs": [],
   "source": [
    "test_input =V( t.randn(50, 1, 28, 28))\n",
    "test_out = _DenseLayer1(test_input)"
   ]
  },
  {
   "cell_type": "code",
   "execution_count": 5,
   "metadata": {},
   "outputs": [],
   "source": [
    "class _DenseBlock(nn.Sequential):\n",
    "    def __init__(self, num_layers, num_input_features, bn_size, growth_rate, drop_rate):\n",
    "        super(_DenseBlock, self).__init__()\n",
    " \n",
    "# \"num_layers:每个block内dense layer层数\"  \n",
    "        for i in range(num_layers):\n",
    "            layer = _DenseLayer(num_input_features + i * growth_rate, growth_rate, bn_size, drop_rate)\n",
    "            self.add_module('denselayer%d' % (i + 1), layer)"
   ]
  },
  {
   "cell_type": "code",
   "execution_count": null,
   "metadata": {},
   "outputs": [],
   "source": []
  },
  {
   "cell_type": "code",
   "execution_count": 6,
   "metadata": {
    "scrolled": true
   },
   "outputs": [
    {
     "data": {
      "text/plain": [
       "_DenseBlock(\n",
       "  (denselayer1): _DenseLayer(\n",
       "    (module1): Sequential(\n",
       "      (0): BatchNorm2d(1, eps=1e-05, momentum=0.1, affine=True, track_running_stats=True)\n",
       "      (1): ReLU()\n",
       "      (2): Conv2d(1, 16, kernel_size=(1, 1), stride=(1, 1), bias=False)\n",
       "      (3): BatchNorm2d(16, eps=1e-05, momentum=0.1, affine=True, track_running_stats=True)\n",
       "      (4): ReLU()\n",
       "      (5): Conv2d(16, 4, kernel_size=(3, 3), stride=(1, 1), padding=(1, 1), bias=False)\n",
       "    )\n",
       "  )\n",
       "  (denselayer2): _DenseLayer(\n",
       "    (module1): Sequential(\n",
       "      (0): BatchNorm2d(5, eps=1e-05, momentum=0.1, affine=True, track_running_stats=True)\n",
       "      (1): ReLU()\n",
       "      (2): Conv2d(5, 16, kernel_size=(1, 1), stride=(1, 1), bias=False)\n",
       "      (3): BatchNorm2d(16, eps=1e-05, momentum=0.1, affine=True, track_running_stats=True)\n",
       "      (4): ReLU()\n",
       "      (5): Conv2d(16, 4, kernel_size=(3, 3), stride=(1, 1), padding=(1, 1), bias=False)\n",
       "    )\n",
       "  )\n",
       "  (denselayer3): _DenseLayer(\n",
       "    (module1): Sequential(\n",
       "      (0): BatchNorm2d(9, eps=1e-05, momentum=0.1, affine=True, track_running_stats=True)\n",
       "      (1): ReLU()\n",
       "      (2): Conv2d(9, 16, kernel_size=(1, 1), stride=(1, 1), bias=False)\n",
       "      (3): BatchNorm2d(16, eps=1e-05, momentum=0.1, affine=True, track_running_stats=True)\n",
       "      (4): ReLU()\n",
       "      (5): Conv2d(16, 4, kernel_size=(3, 3), stride=(1, 1), padding=(1, 1), bias=False)\n",
       "    )\n",
       "  )\n",
       ")"
      ]
     },
     "execution_count": 6,
     "metadata": {},
     "output_type": "execute_result"
    }
   ],
   "source": [
    "_DenseBlock2=_DenseBlock(3,1,4,4,0)\n",
    "_DenseBlock2"
   ]
  },
  {
   "cell_type": "code",
   "execution_count": 7,
   "metadata": {},
   "outputs": [],
   "source": [
    "test_out = _DenseBlock2(test_input)"
   ]
  },
  {
   "cell_type": "code",
   "execution_count": 8,
   "metadata": {},
   "outputs": [],
   "source": [
    "def _Transition(num_input_features, num_output_features):#过渡层，将特征图个数减半\n",
    "    trans_layer = nn.Sequential(\n",
    "        nn.BatchNorm2d(num_input_features),\n",
    "        nn.ReLU(),\n",
    "        nn.Conv2d(num_input_features, num_output_features, 1),\n",
    "        nn.AvgPool2d(1, 1),#(2,2)\n",
    "\n",
    "    )\n",
    "    return trans_layer"
   ]
  },
  {
   "cell_type": "code",
   "execution_count": 9,
   "metadata": {},
   "outputs": [
    {
     "data": {
      "text/plain": [
       "Sequential(\n",
       "  (0): BatchNorm2d(1, eps=1e-05, momentum=0.1, affine=True, track_running_stats=True)\n",
       "  (1): ReLU()\n",
       "  (2): Conv2d(1, 4, kernel_size=(1, 1), stride=(1, 1))\n",
       "  (3): AvgPool2d(kernel_size=1, stride=1, padding=0)\n",
       ")"
      ]
     },
     "execution_count": 9,
     "metadata": {},
     "output_type": "execute_result"
    }
   ],
   "source": [
    "_Transition3=_Transition(1,4)   #32,16\n",
    "_Transition3"
   ]
  },
  {
   "cell_type": "code",
   "execution_count": 10,
   "metadata": {},
   "outputs": [
    {
     "data": {
      "text/plain": [
       "torch.Size([50, 4, 28, 28])"
      ]
     },
     "execution_count": 10,
     "metadata": {},
     "output_type": "execute_result"
    }
   ],
   "source": [
    "test_out = _Transition3(test_input)\n",
    "test_out.shape"
   ]
  },
  {
   "cell_type": "code",
   "execution_count": null,
   "metadata": {},
   "outputs": [],
   "source": []
  },
  {
   "cell_type": "code",
   "execution_count": null,
   "metadata": {},
   "outputs": [],
   "source": []
  },
  {
   "cell_type": "code",
   "execution_count": 11,
   "metadata": {},
   "outputs": [],
   "source": [
    "Block_config1=[2]"
   ]
  },
  {
   "cell_type": "code",
   "execution_count": 12,
   "metadata": {},
   "outputs": [],
   "source": [
    "Bn_size=4\n",
    "Growth_rate=32\n",
    "Block_config=[6,6,6]\n",
    "Out_channels=64\n",
    "Drop_rate=0.2\n",
    "Num_classes=10"
   ]
  },
  {
   "cell_type": "code",
   "execution_count": 13,
   "metadata": {},
   "outputs": [],
   "source": [
    "class DesNET(nn.Module):\n",
    "    def __init__(self, \n",
    "                 growth_rate=Growth_rate, \n",
    "                 block_config=Block_config,\n",
    "                 out_channels=Out_channels,\n",
    "                 bn_size=Bn_size, \n",
    "                 drop_rate=Drop_rate, \n",
    "                 num_classes=Num_classes\n",
    "                ):\n",
    "        \n",
    "        super(DesNET,self).__init__()\n",
    "        \n",
    "        self.pre_layer = nn.Sequential(\n",
    "                            nn.Conv2d(1, out_channels, kernel_size=7, stride=2, padding=3, bias=False ),\n",
    "                            nn.BatchNorm2d(out_channels),\n",
    "                            nn.ReLU(),\n",
    "                            nn.MaxPool2d(kernel_size=3, stride=2, padding=1),\n",
    "        )\n",
    "        \n",
    "        \n",
    "        num_features = out_channels \n",
    "        \n",
    "        for i,num_layers in enumerate(block_config):\n",
    "            block = _DenseBlock(num_layers=num_layers, \n",
    "                                num_input_features=num_features,\n",
    "                                bn_size=bn_size,\n",
    "                                growth_rate=growth_rate,\n",
    "                                drop_rate=drop_rate, \n",
    "            )\n",
    "            \n",
    "            self.pre_layer.add_module('denseblock%d' % (i + 1), block)\n",
    "            num_features = num_features + num_layers * growth_rate\n",
    "            \n",
    "            #過度層只需要做block層-1，並且特徵要扣半\n",
    "            \n",
    "            if i != len(block_config)-1:\n",
    "                Trans = _Transition(num_input_features = num_features, num_output_features= num_features//2)\n",
    "                self.pre_layer.add_module('transition%d' % (i + 1), Trans)\n",
    "                num_features = num_features // 2           \n",
    "        \n",
    "                \n",
    "        self.pre_layer.add_module('Norm5',nn.BatchNorm2d(num_features))\n",
    "\n",
    "        #self.classifier1 = nn.Linear(num_features, num_features//2)\n",
    "        self.classifier2 = nn.Linear(num_features, num_classes)\n",
    "            \n",
    "            \n",
    "            \n",
    "            \n",
    "    def forward(self,x):\n",
    "        x = self.pre_layer(x)\n",
    "        out = F.relu(x, inplace=True)\n",
    "        out = F.avg_pool2d(out, kernel_size=7, stride=1).view(x.size(0), -1)\n",
    "        #out = self.classifier1(out)\n",
    "        out = self.classifier2(out)\n",
    "        return out"
   ]
  },
  {
   "cell_type": "code",
   "execution_count": 14,
   "metadata": {
    "scrolled": true
   },
   "outputs": [
    {
     "data": {
      "text/plain": [
       "DesNET(\n",
       "  (pre_layer): Sequential(\n",
       "    (0): Conv2d(1, 64, kernel_size=(7, 7), stride=(2, 2), padding=(3, 3), bias=False)\n",
       "    (1): BatchNorm2d(64, eps=1e-05, momentum=0.1, affine=True, track_running_stats=True)\n",
       "    (2): ReLU()\n",
       "    (3): MaxPool2d(kernel_size=3, stride=2, padding=1, dilation=1, ceil_mode=False)\n",
       "    (denseblock1): _DenseBlock(\n",
       "      (denselayer1): _DenseLayer(\n",
       "        (module1): Sequential(\n",
       "          (0): BatchNorm2d(64, eps=1e-05, momentum=0.1, affine=True, track_running_stats=True)\n",
       "          (1): ReLU()\n",
       "          (2): Conv2d(64, 128, kernel_size=(1, 1), stride=(1, 1), bias=False)\n",
       "          (3): BatchNorm2d(128, eps=1e-05, momentum=0.1, affine=True, track_running_stats=True)\n",
       "          (4): ReLU()\n",
       "          (5): Conv2d(128, 32, kernel_size=(3, 3), stride=(1, 1), padding=(1, 1), bias=False)\n",
       "        )\n",
       "      )\n",
       "      (denselayer2): _DenseLayer(\n",
       "        (module1): Sequential(\n",
       "          (0): BatchNorm2d(96, eps=1e-05, momentum=0.1, affine=True, track_running_stats=True)\n",
       "          (1): ReLU()\n",
       "          (2): Conv2d(96, 128, kernel_size=(1, 1), stride=(1, 1), bias=False)\n",
       "          (3): BatchNorm2d(128, eps=1e-05, momentum=0.1, affine=True, track_running_stats=True)\n",
       "          (4): ReLU()\n",
       "          (5): Conv2d(128, 32, kernel_size=(3, 3), stride=(1, 1), padding=(1, 1), bias=False)\n",
       "        )\n",
       "      )\n",
       "      (denselayer3): _DenseLayer(\n",
       "        (module1): Sequential(\n",
       "          (0): BatchNorm2d(128, eps=1e-05, momentum=0.1, affine=True, track_running_stats=True)\n",
       "          (1): ReLU()\n",
       "          (2): Conv2d(128, 128, kernel_size=(1, 1), stride=(1, 1), bias=False)\n",
       "          (3): BatchNorm2d(128, eps=1e-05, momentum=0.1, affine=True, track_running_stats=True)\n",
       "          (4): ReLU()\n",
       "          (5): Conv2d(128, 32, kernel_size=(3, 3), stride=(1, 1), padding=(1, 1), bias=False)\n",
       "        )\n",
       "      )\n",
       "      (denselayer4): _DenseLayer(\n",
       "        (module1): Sequential(\n",
       "          (0): BatchNorm2d(160, eps=1e-05, momentum=0.1, affine=True, track_running_stats=True)\n",
       "          (1): ReLU()\n",
       "          (2): Conv2d(160, 128, kernel_size=(1, 1), stride=(1, 1), bias=False)\n",
       "          (3): BatchNorm2d(128, eps=1e-05, momentum=0.1, affine=True, track_running_stats=True)\n",
       "          (4): ReLU()\n",
       "          (5): Conv2d(128, 32, kernel_size=(3, 3), stride=(1, 1), padding=(1, 1), bias=False)\n",
       "        )\n",
       "      )\n",
       "      (denselayer5): _DenseLayer(\n",
       "        (module1): Sequential(\n",
       "          (0): BatchNorm2d(192, eps=1e-05, momentum=0.1, affine=True, track_running_stats=True)\n",
       "          (1): ReLU()\n",
       "          (2): Conv2d(192, 128, kernel_size=(1, 1), stride=(1, 1), bias=False)\n",
       "          (3): BatchNorm2d(128, eps=1e-05, momentum=0.1, affine=True, track_running_stats=True)\n",
       "          (4): ReLU()\n",
       "          (5): Conv2d(128, 32, kernel_size=(3, 3), stride=(1, 1), padding=(1, 1), bias=False)\n",
       "        )\n",
       "      )\n",
       "      (denselayer6): _DenseLayer(\n",
       "        (module1): Sequential(\n",
       "          (0): BatchNorm2d(224, eps=1e-05, momentum=0.1, affine=True, track_running_stats=True)\n",
       "          (1): ReLU()\n",
       "          (2): Conv2d(224, 128, kernel_size=(1, 1), stride=(1, 1), bias=False)\n",
       "          (3): BatchNorm2d(128, eps=1e-05, momentum=0.1, affine=True, track_running_stats=True)\n",
       "          (4): ReLU()\n",
       "          (5): Conv2d(128, 32, kernel_size=(3, 3), stride=(1, 1), padding=(1, 1), bias=False)\n",
       "        )\n",
       "      )\n",
       "    )\n",
       "    (transition1): Sequential(\n",
       "      (0): BatchNorm2d(256, eps=1e-05, momentum=0.1, affine=True, track_running_stats=True)\n",
       "      (1): ReLU()\n",
       "      (2): Conv2d(256, 128, kernel_size=(1, 1), stride=(1, 1))\n",
       "      (3): AvgPool2d(kernel_size=1, stride=1, padding=0)\n",
       "    )\n",
       "    (denseblock2): _DenseBlock(\n",
       "      (denselayer1): _DenseLayer(\n",
       "        (module1): Sequential(\n",
       "          (0): BatchNorm2d(128, eps=1e-05, momentum=0.1, affine=True, track_running_stats=True)\n",
       "          (1): ReLU()\n",
       "          (2): Conv2d(128, 128, kernel_size=(1, 1), stride=(1, 1), bias=False)\n",
       "          (3): BatchNorm2d(128, eps=1e-05, momentum=0.1, affine=True, track_running_stats=True)\n",
       "          (4): ReLU()\n",
       "          (5): Conv2d(128, 32, kernel_size=(3, 3), stride=(1, 1), padding=(1, 1), bias=False)\n",
       "        )\n",
       "      )\n",
       "      (denselayer2): _DenseLayer(\n",
       "        (module1): Sequential(\n",
       "          (0): BatchNorm2d(160, eps=1e-05, momentum=0.1, affine=True, track_running_stats=True)\n",
       "          (1): ReLU()\n",
       "          (2): Conv2d(160, 128, kernel_size=(1, 1), stride=(1, 1), bias=False)\n",
       "          (3): BatchNorm2d(128, eps=1e-05, momentum=0.1, affine=True, track_running_stats=True)\n",
       "          (4): ReLU()\n",
       "          (5): Conv2d(128, 32, kernel_size=(3, 3), stride=(1, 1), padding=(1, 1), bias=False)\n",
       "        )\n",
       "      )\n",
       "      (denselayer3): _DenseLayer(\n",
       "        (module1): Sequential(\n",
       "          (0): BatchNorm2d(192, eps=1e-05, momentum=0.1, affine=True, track_running_stats=True)\n",
       "          (1): ReLU()\n",
       "          (2): Conv2d(192, 128, kernel_size=(1, 1), stride=(1, 1), bias=False)\n",
       "          (3): BatchNorm2d(128, eps=1e-05, momentum=0.1, affine=True, track_running_stats=True)\n",
       "          (4): ReLU()\n",
       "          (5): Conv2d(128, 32, kernel_size=(3, 3), stride=(1, 1), padding=(1, 1), bias=False)\n",
       "        )\n",
       "      )\n",
       "      (denselayer4): _DenseLayer(\n",
       "        (module1): Sequential(\n",
       "          (0): BatchNorm2d(224, eps=1e-05, momentum=0.1, affine=True, track_running_stats=True)\n",
       "          (1): ReLU()\n",
       "          (2): Conv2d(224, 128, kernel_size=(1, 1), stride=(1, 1), bias=False)\n",
       "          (3): BatchNorm2d(128, eps=1e-05, momentum=0.1, affine=True, track_running_stats=True)\n",
       "          (4): ReLU()\n",
       "          (5): Conv2d(128, 32, kernel_size=(3, 3), stride=(1, 1), padding=(1, 1), bias=False)\n",
       "        )\n",
       "      )\n",
       "      (denselayer5): _DenseLayer(\n",
       "        (module1): Sequential(\n",
       "          (0): BatchNorm2d(256, eps=1e-05, momentum=0.1, affine=True, track_running_stats=True)\n",
       "          (1): ReLU()\n",
       "          (2): Conv2d(256, 128, kernel_size=(1, 1), stride=(1, 1), bias=False)\n",
       "          (3): BatchNorm2d(128, eps=1e-05, momentum=0.1, affine=True, track_running_stats=True)\n",
       "          (4): ReLU()\n",
       "          (5): Conv2d(128, 32, kernel_size=(3, 3), stride=(1, 1), padding=(1, 1), bias=False)\n",
       "        )\n",
       "      )\n",
       "      (denselayer6): _DenseLayer(\n",
       "        (module1): Sequential(\n",
       "          (0): BatchNorm2d(288, eps=1e-05, momentum=0.1, affine=True, track_running_stats=True)\n",
       "          (1): ReLU()\n",
       "          (2): Conv2d(288, 128, kernel_size=(1, 1), stride=(1, 1), bias=False)\n",
       "          (3): BatchNorm2d(128, eps=1e-05, momentum=0.1, affine=True, track_running_stats=True)\n",
       "          (4): ReLU()\n",
       "          (5): Conv2d(128, 32, kernel_size=(3, 3), stride=(1, 1), padding=(1, 1), bias=False)\n",
       "        )\n",
       "      )\n",
       "    )\n",
       "    (transition2): Sequential(\n",
       "      (0): BatchNorm2d(320, eps=1e-05, momentum=0.1, affine=True, track_running_stats=True)\n",
       "      (1): ReLU()\n",
       "      (2): Conv2d(320, 160, kernel_size=(1, 1), stride=(1, 1))\n",
       "      (3): AvgPool2d(kernel_size=1, stride=1, padding=0)\n",
       "    )\n",
       "    (denseblock3): _DenseBlock(\n",
       "      (denselayer1): _DenseLayer(\n",
       "        (module1): Sequential(\n",
       "          (0): BatchNorm2d(160, eps=1e-05, momentum=0.1, affine=True, track_running_stats=True)\n",
       "          (1): ReLU()\n",
       "          (2): Conv2d(160, 128, kernel_size=(1, 1), stride=(1, 1), bias=False)\n",
       "          (3): BatchNorm2d(128, eps=1e-05, momentum=0.1, affine=True, track_running_stats=True)\n",
       "          (4): ReLU()\n",
       "          (5): Conv2d(128, 32, kernel_size=(3, 3), stride=(1, 1), padding=(1, 1), bias=False)\n",
       "        )\n",
       "      )\n",
       "      (denselayer2): _DenseLayer(\n",
       "        (module1): Sequential(\n",
       "          (0): BatchNorm2d(192, eps=1e-05, momentum=0.1, affine=True, track_running_stats=True)\n",
       "          (1): ReLU()\n",
       "          (2): Conv2d(192, 128, kernel_size=(1, 1), stride=(1, 1), bias=False)\n",
       "          (3): BatchNorm2d(128, eps=1e-05, momentum=0.1, affine=True, track_running_stats=True)\n",
       "          (4): ReLU()\n",
       "          (5): Conv2d(128, 32, kernel_size=(3, 3), stride=(1, 1), padding=(1, 1), bias=False)\n",
       "        )\n",
       "      )\n",
       "      (denselayer3): _DenseLayer(\n",
       "        (module1): Sequential(\n",
       "          (0): BatchNorm2d(224, eps=1e-05, momentum=0.1, affine=True, track_running_stats=True)\n",
       "          (1): ReLU()\n",
       "          (2): Conv2d(224, 128, kernel_size=(1, 1), stride=(1, 1), bias=False)\n",
       "          (3): BatchNorm2d(128, eps=1e-05, momentum=0.1, affine=True, track_running_stats=True)\n",
       "          (4): ReLU()\n",
       "          (5): Conv2d(128, 32, kernel_size=(3, 3), stride=(1, 1), padding=(1, 1), bias=False)\n",
       "        )\n",
       "      )\n",
       "      (denselayer4): _DenseLayer(\n",
       "        (module1): Sequential(\n",
       "          (0): BatchNorm2d(256, eps=1e-05, momentum=0.1, affine=True, track_running_stats=True)\n",
       "          (1): ReLU()\n",
       "          (2): Conv2d(256, 128, kernel_size=(1, 1), stride=(1, 1), bias=False)\n",
       "          (3): BatchNorm2d(128, eps=1e-05, momentum=0.1, affine=True, track_running_stats=True)\n",
       "          (4): ReLU()\n",
       "          (5): Conv2d(128, 32, kernel_size=(3, 3), stride=(1, 1), padding=(1, 1), bias=False)\n",
       "        )\n",
       "      )\n",
       "      (denselayer5): _DenseLayer(\n",
       "        (module1): Sequential(\n",
       "          (0): BatchNorm2d(288, eps=1e-05, momentum=0.1, affine=True, track_running_stats=True)\n",
       "          (1): ReLU()\n",
       "          (2): Conv2d(288, 128, kernel_size=(1, 1), stride=(1, 1), bias=False)\n",
       "          (3): BatchNorm2d(128, eps=1e-05, momentum=0.1, affine=True, track_running_stats=True)\n",
       "          (4): ReLU()\n",
       "          (5): Conv2d(128, 32, kernel_size=(3, 3), stride=(1, 1), padding=(1, 1), bias=False)\n",
       "        )\n",
       "      )\n",
       "      (denselayer6): _DenseLayer(\n",
       "        (module1): Sequential(\n",
       "          (0): BatchNorm2d(320, eps=1e-05, momentum=0.1, affine=True, track_running_stats=True)\n",
       "          (1): ReLU()\n",
       "          (2): Conv2d(320, 128, kernel_size=(1, 1), stride=(1, 1), bias=False)\n",
       "          (3): BatchNorm2d(128, eps=1e-05, momentum=0.1, affine=True, track_running_stats=True)\n",
       "          (4): ReLU()\n",
       "          (5): Conv2d(128, 32, kernel_size=(3, 3), stride=(1, 1), padding=(1, 1), bias=False)\n",
       "        )\n",
       "      )\n",
       "    )\n",
       "    (Norm5): BatchNorm2d(352, eps=1e-05, momentum=0.1, affine=True, track_running_stats=True)\n",
       "  )\n",
       "  (classifier2): Linear(in_features=352, out_features=10, bias=True)\n",
       ")"
      ]
     },
     "execution_count": 14,
     "metadata": {},
     "output_type": "execute_result"
    }
   ],
   "source": [
    "DesNET121=DesNET()\n",
    "DesNET121"
   ]
  },
  {
   "cell_type": "code",
   "execution_count": 15,
   "metadata": {},
   "outputs": [],
   "source": [
    "test_out = DesNET121(test_input)"
   ]
  },
  {
   "cell_type": "code",
   "execution_count": 16,
   "metadata": {},
   "outputs": [
    {
     "data": {
      "text/plain": [
       "torch.Size([50, 10])"
      ]
     },
     "execution_count": 16,
     "metadata": {},
     "output_type": "execute_result"
    }
   ],
   "source": [
    "test_out.shape"
   ]
  },
  {
   "cell_type": "code",
   "execution_count": null,
   "metadata": {},
   "outputs": [],
   "source": []
  },
  {
   "cell_type": "code",
   "execution_count": 17,
   "metadata": {},
   "outputs": [
    {
     "name": "stderr",
     "output_type": "stream",
     "text": [
      "D:\\python\\envs\\two_pthon_deep\\lib\\site-packages\\torchvision\\datasets\\mnist.py:55: UserWarning: train_data has been renamed data\n",
      "  warnings.warn(\"train_data has been renamed data\")\n",
      "D:\\python\\envs\\two_pthon_deep\\lib\\site-packages\\torchvision\\datasets\\mnist.py:45: UserWarning: train_labels has been renamed targets\n",
      "  warnings.warn(\"train_labels has been renamed targets\")\n",
      "D:\\python\\envs\\two_pthon_deep\\lib\\site-packages\\torchvision\\datasets\\mnist.py:60: UserWarning: test_data has been renamed data\n",
      "  warnings.warn(\"test_data has been renamed data\")\n",
      "D:\\python\\envs\\two_pthon_deep\\lib\\site-packages\\torchvision\\datasets\\mnist.py:50: UserWarning: test_labels has been renamed targets\n",
      "  warnings.warn(\"test_labels has been renamed targets\")\n"
     ]
    }
   ],
   "source": [
    "EPOCH=1\n",
    "BATCH_SIZE=50\n",
    "LR=0.001\n",
    "DOWN_MNIST=False\n",
    "data_trian=torchvision.datasets.MNIST(root='./mnist/',train=True,transform=torchvision.transforms.ToTensor,download=False)\n",
    "data_test=torchvision.datasets.MNIST(root='./mnist/',train=False,transform=torchvision.transforms.ToTensor,download=False)\n",
    "train_x = V(t.unsqueeze(data_trian.train_data,dim=1)).type(t.FloatTensor)/255\n",
    "train_y= data_trian.train_labels\n",
    "test_x = V(t.unsqueeze(data_test.test_data,dim=1)).type(t.FloatTensor)[:2000]/255\n",
    "test_y = data_test.test_labels[:2000]\n",
    "train_data=Date.TensorDataset(train_x,train_y)\n",
    "train_loader=Date.DataLoader(train_data,batch_size=BATCH_SIZE,shuffle=True,num_workers=2)"
   ]
  },
  {
   "cell_type": "code",
   "execution_count": 18,
   "metadata": {},
   "outputs": [],
   "source": [
    "optimizer=t.optim.Adam(DesNET121.parameters(),lr=LR)\n",
    "loss_func=nn.CrossEntropyLoss()\n",
    "training_loss = []\n",
    "training_accuracy = []\n",
    "validation_loss = []\n",
    "validation_accuracy = []"
   ]
  },
  {
   "cell_type": "code",
   "execution_count": 19,
   "metadata": {
    "scrolled": true
   },
   "outputs": [
    {
     "name": "stdout",
     "output_type": "stream",
     "text": [
      "Epoch: 1 [ 0 / 60000 ( 0 ) %] train acc: 0.14 | train loss: 2.3044 - |test acc: 0.11 - test loss: 2.3016|\n",
      "Epoch: 2 [ 5000 / 60000 ( 8 ) %] train acc: 1.00 | train loss: 0.0763 - |test acc: 0.91 - test loss: 0.3016|\n",
      "Epoch: 3 [ 10000 / 60000 ( 16 ) %] train acc: 0.90 | train loss: 0.3048 - |test acc: 0.95 - test loss: 0.1643|\n",
      "Epoch: 4 [ 15000 / 60000 ( 25 ) %] train acc: 0.96 | train loss: 0.1063 - |test acc: 0.96 - test loss: 0.1411|\n",
      "Epoch: 5 [ 20000 / 60000 ( 33 ) %] train acc: 0.98 | train loss: 0.0621 - |test acc: 0.96 - test loss: 0.1394|\n",
      "Epoch: 6 [ 25000 / 60000 ( 41 ) %] train acc: 0.98 | train loss: 0.0694 - |test acc: 0.95 - test loss: 0.1497|\n",
      "Epoch: 7 [ 30000 / 60000 ( 50 ) %] train acc: 1.00 | train loss: 0.0412 - |test acc: 0.98 - test loss: 0.0750|\n",
      "Epoch: 8 [ 35000 / 60000 ( 58 ) %] train acc: 0.98 | train loss: 0.0768 - |test acc: 0.97 - test loss: 0.0981|\n",
      "Epoch: 9 [ 40000 / 60000 ( 66 ) %] train acc: 1.00 | train loss: 0.0147 - |test acc: 0.96 - test loss: 0.1294|\n",
      "Epoch: 10 [ 45000 / 60000 ( 75 ) %] train acc: 0.96 | train loss: 0.1259 - |test acc: 0.95 - test loss: 0.1470|\n",
      "Epoch: 11 [ 50000 / 60000 ( 83 ) %] train acc: 0.94 | train loss: 0.0848 - |test acc: 0.98 - test loss: 0.0506|\n",
      "Epoch: 12 [ 55000 / 60000 ( 91 ) %] train acc: 0.98 | train loss: 0.0313 - |test acc: 0.98 - test loss: 0.0636|\n",
      "----------------------------------------------------------------------------------------------------\n",
      "It cost 1154.1 sec\n"
     ]
    }
   ],
   "source": [
    "Epoch=0\n",
    "tStart = time.time()#計時開始\n",
    "#time.sleep(2)\n",
    "for epoch in range(1):\n",
    "    \n",
    "    for step, (x, y) in enumerate(train_loader):   # gives batch data, normalize x when iterate train_loader\n",
    "        \n",
    "\n",
    "        \n",
    "        b_x = V(x)   # batch x\n",
    "        b_y = V(y)   # batch y\n",
    "        \n",
    "        output = DesNET121(b_x)               # cnn output\n",
    "        loss = loss_func(output, b_y)   # cross entropy loss\n",
    "        optimizer.zero_grad()           # clear gradients for this training step\n",
    "        loss.backward()                 # backpropagation, compute gradients\n",
    "        optimizer.step()                # apply gradients\n",
    "        \n",
    "        b_t_x= V(test_x)\n",
    "        b_t_y= V(test_y)\n",
    "        \n",
    "        \n",
    "        \n",
    "        \n",
    "        \n",
    "        if step % 100 == 0:\n",
    "            DesNET121.eval()\n",
    "            Epoch+=1\n",
    "            test_output = DesNET121(test_x) \n",
    "            DesNET121.train()\n",
    "            pred_y = t.max(test_output, 1)[1]#因為是relu，所以max取機率最高的機率\n",
    "            tran_pred_y = t.max(output, 1)[1]\n",
    "            \n",
    "            training_loss.append(loss.data)\n",
    "            val_loss = loss_func(test_output, b_t_y)\n",
    "            validation_loss.append(val_loss.data)\n",
    "            \n",
    "            \n",
    "            \n",
    "            \n",
    "            \n",
    "            tran_accuracy = (tran_pred_y == y).sum().item() / float(y.size(0))\n",
    "            accuracy = (pred_y == test_y).sum().item() / float(test_y.size(0))\n",
    "            training_accuracy.append(tran_accuracy)\n",
    "            validation_accuracy.append(accuracy)\n",
    "\n",
    "            print('Epoch:', Epoch,'[', step * len(b_x), '/','%d'% len(train_loader.dataset),\n",
    "                  '(',int(100. * step / len(train_loader)),') %]',\n",
    "                  'train acc: %.2f' % tran_accuracy, '| train loss: %.4f' % loss.item(), '- |test acc: %.2f' % accuracy, '- test loss: %.4f|' % val_loss.item())\n",
    "tEnd = time.time()\n",
    "print('-'*100)\n",
    "print (\"It cost %.1f sec\" % (tEnd - tStart))\n",
    "\n"
   ]
  },
  {
   "cell_type": "code",
   "execution_count": 20,
   "metadata": {},
   "outputs": [
    {
     "data": {
      "image/png": "[encoded data removed]",
      "text/plain": [
       "<Figure size 432x288 with 1 Axes>"
      ]
     },
     "metadata": {
      "needs_background": "light"
     },
     "output_type": "display_data"
    },
    {
     "data": {
      "image/png": "[encoded data removed]",
      "text/plain": [
       "<Figure size 432x288 with 1 Axes>"
      ]
     },
     "metadata": {
      "needs_background": "light"
     },
     "output_type": "display_data"
    }
   ],
   "source": [
    "plt.plot(training_loss, 'b-', label='Training_loss')\n",
    "plt.plot(validation_loss, 'g-', label='validation_loss')\n",
    "plt.title('Training & Validation loss')\n",
    "plt.xlabel('Number of epochs')\n",
    "plt.ylabel('Loss')\n",
    "plt.legend()\n",
    "plt.show()\n",
    "\n",
    "plt.plot( training_accuracy, 'b-', label='Training_accuracy')\n",
    "plt.plot( validation_accuracy, 'g-', label='Validation_accuracy')\n",
    "plt.title('Training & Validation accuracy')\n",
    "plt.xlabel('Number of epochs')\n",
    "plt.ylabel('Accuracy')\n",
    "plt.legend()\n",
    "plt.show()"
   ]
  },
  {
   "cell_type": "code",
   "execution_count": 21,
   "metadata": {},
   "outputs": [
    {
     "name": "stdout",
     "output_type": "stream",
     "text": [
      "實際: [7 2 1 0 4 1 4 9 5 9 0 6 9 0 1 5 9 7 3 4]\n",
      "預測: [7 2 1 0 4 1 4 9 5 9 0 6 9 0 1 5 9 7 3 4]\n"
     ]
    }
   ],
   "source": [
    "y_0_9_chance=DesNET121(test_x[:20])\n",
    "y_pred=t.max(y_0_9_chance,1)[1].data.numpy().squeeze()\n",
    "print('實際:',test_y[:20].numpy())\n",
    "print('預測:',y_pred)"
   ]
  },
  {
   "cell_type": "code",
   "execution_count": 22,
   "metadata": {},
   "outputs": [],
   "source": [
    "test_data=Date.TensorDataset(test_x,test_y)\n",
    "test_loader=Date.DataLoader(test_data,batch_size=BATCH_SIZE,shuffle=True,num_workers=2)"
   ]
  },
  {
   "cell_type": "code",
   "execution_count": 23,
   "metadata": {},
   "outputs": [
    {
     "name": "stderr",
     "output_type": "stream",
     "text": [
      "D:\\python\\envs\\two_pthon_deep\\lib\\site-packages\\ipykernel_launcher.py:5: UserWarning: volatile was removed and now has no effect. Use `with torch.no_grad():` instead.\n",
      "  \"\"\"\n"
     ]
    },
    {
     "name": "stdout",
     "output_type": "stream",
     "text": [
      "\n",
      "Test set: Average loss: 0.1081, Accuracy: 1931/2000 (97%)\n",
      "\n"
     ]
    }
   ],
   "source": [
    "DesNET121.eval()\n",
    "test_loss = 0\n",
    "correct = 0\n",
    "for data,target in (test_loader):\n",
    "    data, target = V(data, volatile=True), V(target)\n",
    "    output = DesNET121(data)\n",
    "    test_loss += loss_func(output, target).item()\n",
    "    pred = output.data.max(1)[1] # get the index of the max log-probability\n",
    "    correct += pred.eq(target.data).cpu().sum()\n",
    "\n",
    "test_loss = test_loss\n",
    "test_loss /= len(test_loader) # loss function already averages over batch size\n",
    "\n",
    "print('\\nTest set: Average loss: {:.4f}, Accuracy: {}/{} ({:.0f}%)\\n'.format(\n",
    "    test_loss, correct, len(test_loader.dataset),\n",
    "    100. * correct / len(test_loader.dataset)))"
   ]
  },
  {
   "cell_type": "code",
   "execution_count": 24,
   "metadata": {},
   "outputs": [
    {
     "name": "stdout",
     "output_type": "stream",
     "text": [
      "              precision    recall  f1-score   support\n",
      "\n",
      "           0       0.99      0.99      0.99       175\n",
      "           1       0.98      0.99      0.99       234\n",
      "           2       0.99      0.98      0.98       219\n",
      "           3       0.94      1.00      0.96       207\n",
      "           4       0.99      0.98      0.98       217\n",
      "           5       0.98      0.97      0.97       179\n",
      "           6       1.00      0.97      0.99       178\n",
      "           7       0.97      0.97      0.97       205\n",
      "           8       0.99      0.82      0.90       192\n",
      "           9       0.86      0.98      0.92       194\n",
      "\n",
      "    accuracy                           0.97      2000\n",
      "   macro avg       0.97      0.96      0.96      2000\n",
      "weighted avg       0.97      0.97      0.97      2000\n",
      "\n"
     ]
    }
   ],
   "source": [
    "from sklearn.metrics import classification_report\n",
    "y_all=DesNET121(test_x)\n",
    "y_pred_all=t.max(y_all,1)[1].data.numpy().squeeze()\n",
    "target_names = ['0', '1', '2','3','4','5','6','7','8','9']\n",
    "print(classification_report(test_y.numpy(),y_pred_all,target_names=target_names))"
   ]
  },
  {
   "cell_type": "code",
   "execution_count": 25,
   "metadata": {},
   "outputs": [
    {
     "name": "stdout",
     "output_type": "stream",
     "text": [
      "[[174   0   0   0   0   0   0   1   0   0]\n",
      " [  0 232   0   1   0   0   0   1   0   0]\n",
      " [  1   2 214   0   0   0   0   2   0   0]\n",
      " [  0   0   0 206   0   0   0   1   0   0]\n",
      " [  0   0   0   0 213   0   0   0   0   4]\n",
      " [  0   0   0   5   0 173   0   1   0   0]\n",
      " [  1   1   0   0   0   2 173   0   1   0]\n",
      " [  0   1   1   0   1   0   0 198   0   4]\n",
      " [  0   1   2   7   1   1   0   1 157  22]\n",
      " [  0   0   0   1   1   1   0   0   0 191]]\n"
     ]
    }
   ],
   "source": [
    "from sklearn.metrics import confusion_matrix\n",
    "confmat = confusion_matrix(y_true=test_y.numpy(), y_pred=y_pred_all)\n",
    "print(confmat)"
   ]
  },
  {
   "cell_type": "code",
   "execution_count": null,
   "metadata": {},
   "outputs": [],
   "source": []
  },
  {
   "cell_type": "markdown",
   "metadata": {},
   "source": []
  },
  {
   "cell_type": "code",
   "execution_count": null,
   "metadata": {},
   "outputs": [],
   "source": []
  }
 ],
 "metadata": {
  "kernelspec": {
   "display_name": "Python 3",
   "language": "python",
   "name": "python3"
  },
  "language_info": {
   "codemirror_mode": {
    "name": "ipython",
    "version": 3
   },
   "file_extension": ".py",
   "mimetype": "text/x-python",
   "name": "python",
   "nbconvert_exporter": "python",
   "pygments_lexer": "ipython3",
   "version": "3.6.9"
  }
 },
 "nbformat": 4,
 "nbformat_minor": 2
}
